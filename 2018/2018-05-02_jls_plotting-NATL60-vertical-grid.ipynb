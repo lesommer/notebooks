{
 "cells": [
  {
   "cell_type": "markdown",
   "metadata": {},
   "source": [
    "## Material for NATL60 Geophysical Model Development \n",
    "### Description of NATL60 vertical grid\n",
    "\n",
    " - **author** : Julien Le Sommer\n",
    " - **purpose** : plotting NATL60 vertical grid for NATL60 GMD paper\n"
   ]
  },
  {
   "cell_type": "markdown",
   "metadata": {},
   "source": [
    "### Importing libraries"
   ]
  },
  {
   "cell_type": "code",
   "execution_count": 136,
   "metadata": {},
   "outputs": [],
   "source": [
    "import os\n",
    "import numpy as np\n",
    "import pandas as pd\n",
    "from matplotlib import pyplot as plt"
   ]
  },
  {
   "cell_type": "markdown",
   "metadata": {},
   "source": [
    "### Reading data file"
   ]
  },
  {
   "cell_type": "code",
   "execution_count": 116,
   "metadata": {},
   "outputs": [
    {
     "name": "stdout",
     "output_type": "stream",
     "text": [
      "\u001b[1m\u001b[34mNATL60-I\u001b[m\u001b[m                    gdep.txt\r\n",
      "fraction_area_per_level.csv\r\n"
     ]
    }
   ],
   "source": [
    "!ls ~/data/models/NATL60/NATL60-CJM165/grid/"
   ]
  },
  {
   "cell_type": "code",
   "execution_count": 143,
   "metadata": {},
   "outputs": [],
   "source": [
    "home = os.path.expanduser('~') "
   ]
  },
  {
   "cell_type": "code",
   "execution_count": 144,
   "metadata": {},
   "outputs": [
    {
     "data": {
      "text/html": [
       "<div>\n",
       "<style>\n",
       "    .dataframe thead tr:only-child th {\n",
       "        text-align: right;\n",
       "    }\n",
       "\n",
       "    .dataframe thead th {\n",
       "        text-align: left;\n",
       "    }\n",
       "\n",
       "    .dataframe tbody tr th {\n",
       "        vertical-align: top;\n",
       "    }\n",
       "</style>\n",
       "<table border=\"1\" class=\"dataframe\">\n",
       "  <thead>\n",
       "    <tr style=\"text-align: right;\">\n",
       "      <th></th>\n",
       "      <th>gdept_1d</th>\n",
       "      <th>gdepw_1d</th>\n",
       "      <th>e3t_1d</th>\n",
       "      <th>e3w_1d</th>\n",
       "    </tr>\n",
       "  </thead>\n",
       "  <tbody>\n",
       "    <tr>\n",
       "      <th>0</th>\n",
       "      <td>0.48</td>\n",
       "      <td>0.00</td>\n",
       "      <td>1.00</td>\n",
       "      <td>0.92</td>\n",
       "    </tr>\n",
       "    <tr>\n",
       "      <th>1</th>\n",
       "      <td>1.56</td>\n",
       "      <td>1.00</td>\n",
       "      <td>1.16</td>\n",
       "      <td>1.08</td>\n",
       "    </tr>\n",
       "    <tr>\n",
       "      <th>2</th>\n",
       "      <td>2.79</td>\n",
       "      <td>2.16</td>\n",
       "      <td>1.31</td>\n",
       "      <td>1.24</td>\n",
       "    </tr>\n",
       "    <tr>\n",
       "      <th>3</th>\n",
       "      <td>4.19</td>\n",
       "      <td>3.47</td>\n",
       "      <td>1.47</td>\n",
       "      <td>1.39</td>\n",
       "    </tr>\n",
       "    <tr>\n",
       "      <th>4</th>\n",
       "      <td>5.74</td>\n",
       "      <td>4.94</td>\n",
       "      <td>1.63</td>\n",
       "      <td>1.55</td>\n",
       "    </tr>\n",
       "  </tbody>\n",
       "</table>\n",
       "</div>"
      ],
      "text/plain": [
       "   gdept_1d  gdepw_1d  e3t_1d  e3w_1d\n",
       "0      0.48      0.00    1.00    0.92\n",
       "1      1.56      1.00    1.16    1.08\n",
       "2      2.79      2.16    1.31    1.24\n",
       "3      4.19      3.47    1.47    1.39\n",
       "4      5.74      4.94    1.63    1.55"
      ]
     },
     "execution_count": 144,
     "metadata": {},
     "output_type": "execute_result"
    }
   ],
   "source": [
    "## path to data file \n",
    "## to be be updated before submission\n",
    "depfile = home + '/data/models/NATL60/NATL60-CJM165/grid/gdep.txt'\n",
    "dfd = pd.read_csv(depfile, header=1, skiprows=0, skipinitialspace=True, sep=' ', usecols=[1,2,3,4])\n",
    "dfd.head()"
   ]
  },
  {
   "cell_type": "code",
   "execution_count": 145,
   "metadata": {},
   "outputs": [
    {
     "data": {
      "text/html": [
       "<div>\n",
       "<style>\n",
       "    .dataframe thead tr:only-child th {\n",
       "        text-align: right;\n",
       "    }\n",
       "\n",
       "    .dataframe thead th {\n",
       "        text-align: left;\n",
       "    }\n",
       "\n",
       "    .dataframe tbody tr th {\n",
       "        vertical-align: top;\n",
       "    }\n",
       "</style>\n",
       "<table border=\"1\" class=\"dataframe\">\n",
       "  <thead>\n",
       "    <tr style=\"text-align: right;\">\n",
       "      <th></th>\n",
       "      <th>z</th>\n",
       "      <th>fraction_area</th>\n",
       "    </tr>\n",
       "  </thead>\n",
       "  <tbody>\n",
       "    <tr>\n",
       "      <th>0</th>\n",
       "      <td>0</td>\n",
       "      <td>1.0</td>\n",
       "    </tr>\n",
       "    <tr>\n",
       "      <th>1</th>\n",
       "      <td>1</td>\n",
       "      <td>1.0</td>\n",
       "    </tr>\n",
       "    <tr>\n",
       "      <th>2</th>\n",
       "      <td>2</td>\n",
       "      <td>1.0</td>\n",
       "    </tr>\n",
       "    <tr>\n",
       "      <th>3</th>\n",
       "      <td>3</td>\n",
       "      <td>1.0</td>\n",
       "    </tr>\n",
       "    <tr>\n",
       "      <th>4</th>\n",
       "      <td>4</td>\n",
       "      <td>1.0</td>\n",
       "    </tr>\n",
       "  </tbody>\n",
       "</table>\n",
       "</div>"
      ],
      "text/plain": [
       "   z  fraction_area\n",
       "0  0            1.0\n",
       "1  1            1.0\n",
       "2  2            1.0\n",
       "3  3            1.0\n",
       "4  4            1.0"
      ]
     },
     "execution_count": 145,
     "metadata": {},
     "output_type": "execute_result"
    }
   ],
   "source": [
    "areafile = home + '/data/models/NATL60/NATL60-CJM165/grid/fraction_area_per_level.csv'\n",
    "dfa = pd.read_csv(areafile)\n",
    "dfa.head()"
   ]
  },
  {
   "cell_type": "markdown",
   "metadata": {},
   "source": [
    "### Plotting layer thickness as a function of depth"
   ]
  },
  {
   "cell_type": "code",
   "execution_count": 119,
   "metadata": {},
   "outputs": [
    {
     "data": {
      "image/png": "[encoded data removed]",
      "text/plain": [
       "<matplotlib.figure.Figure at 0x109f6f748>"
      ]
     },
     "metadata": {},
     "output_type": "display_data"
    }
   ],
   "source": [
    "fig, ax = plt.subplots(figsize=(4,6))\n",
    "ax.plot( dfd['e3t_1d'],dfd['gdepw_1d'])\n",
    "ax.set_ylim(ax.get_ylim()[::-1])\n",
    "ax.set_xlabel('level thickness (m)')\n",
    "ax.set_ylabel('depth (m)')\n",
    "ax.grid('on')\n",
    "plt.show()"
   ]
  },
  {
   "cell_type": "markdown",
   "metadata": {},
   "source": [
    "### Plotting area fraction as a function of depth"
   ]
  },
  {
   "cell_type": "code",
   "execution_count": 124,
   "metadata": {},
   "outputs": [
    {
     "data": {
      "image/png": "[encoded data removed]",
      "text/plain": [
       "<matplotlib.figure.Figure at 0x119f567b8>"
      ]
     },
     "metadata": {},
     "output_type": "display_data"
    }
   ],
   "source": [
    "fig, ax = plt.subplots(figsize=(4,6))\n",
    "ax.plot( 100. * dfa['fraction_area'],df['gdepw_1d'][:-1])\n",
    "ax.set_ylim(ax.get_ylim()[::-1])\n",
    "ax.set_xlabel('fraction of surface area (%)')\n",
    "ax.set_ylabel('depth (m)')\n",
    "ax.grid('on')\n",
    "plt.show()"
   ]
  },
  {
   "cell_type": "markdown",
   "metadata": {},
   "source": [
    "### Combining the two information in a single plot"
   ]
  },
  {
   "cell_type": "code",
   "execution_count": 150,
   "metadata": {},
   "outputs": [
    {
     "data": {
      "image/png": "[encoded data removed]",
      "text/plain": [
       "<matplotlib.figure.Figure at 0x119c87be0>"
      ]
     },
     "metadata": {},
     "output_type": "display_data"
    }
   ],
   "source": [
    "x1 = dfd['e3t_1d'][:-1]\n",
    "x2 = 100. * dfa['fraction_area']\n",
    "y = df['gdepw_1d'][:-1]\n",
    "\n",
    "fig, ax = plt.subplots(figsize=(4,6))\n",
    "\n",
    "# Plot y1 vs x in blue on the left vertical axis.\n",
    "plt.ylabel(\"depth (m)\")\n",
    "plt.xlabel(\"Thickness of levels (m)\", color=\"b\")\n",
    "ax.set_xlim(0,55)\n",
    "plt.tick_params(axis=\"x\", labelcolor=\"b\")\n",
    "plt.plot(x1, y, \"b-\", linewidth=2)\n",
    "\n",
    "# Plot y2 vs x in red on the right vertical axis.\n",
    "plt.twiny()\n",
    "plt.xlabel(\"Fraction of surface area (%)\", color=\"r\")\n",
    "ax.set_xlim(0,55)\n",
    "plt.tick_params(axis=\"x\", labelcolor=\"r\")\n",
    "plt.plot(x2, y, \"r-\", linewidth=2)\n",
    "\n",
    "ax.set_ylim(ax.get_ylim()[::-1])\n",
    "ax.grid('on')\n",
    "plt.show()"
   ]
  },
  {
   "cell_type": "markdown",
   "metadata": {},
   "source": [
    "### Exporting the figure"
   ]
  },
  {
   "cell_type": "code",
   "execution_count": 151,
   "metadata": {},
   "outputs": [],
   "source": [
    "fig.savefig(home + \"/git/2017-paper-natl60-gmd/figures/NATL60_vertical_grid.png\", dpi=75, format=\"png\")\n"
   ]
  },
  {
   "cell_type": "code",
   "execution_count": null,
   "metadata": {},
   "outputs": [],
   "source": []
  }
 ],
 "metadata": {
  "kernelspec": {
   "display_name": "Python 3",
   "language": "python",
   "name": "python3"
  },
  "language_info": {
   "codemirror_mode": {
    "name": "ipython",
    "version": 3
   },
   "file_extension": ".py",
   "mimetype": "text/x-python",
   "name": "python",
   "nbconvert_exporter": "python",
   "pygments_lexer": "ipython3",
   "version": "3.6.3"
  }
 },
 "nbformat": 4,
 "nbformat_minor": 2
}
